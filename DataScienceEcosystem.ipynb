{
 "cells": [
  {
   "cell_type": "markdown",
   "id": "aa74452e",
   "metadata": {},
   "source": [
    "# Data Science Tools and Ecosystems\n",
    "\n",
    "In this module, we learnt how to create jupyter notebooks and markdown.\n",
    "\n",
    "**Objectives**\n",
    "\n",
    "In this notebook, we'll cover:\n",
    "- Common Libraries\n",
    "- Data Science Tools\n",
    "- Basic Arithmetic\n"
   ]
  },
  {
   "cell_type": "markdown",
   "id": "a593d20a",
   "metadata": {},
   "source": [
    "Some of the popular languauges learnt were:\n",
    "1. Python\n",
    "2. R\n",
    "3. SQL\n",
    "\n",
    "\n",
    "Some of the commonly used Libraries are:\n",
    "1. NumPy\n",
    "2. Pandas\n",
    "3. MatplotLib\n",
    "\n",
    "| **Data Science Tools** |\n",
    "| ---------------------- |\n",
    "| Python |\n",
    "| R Language|\n",
    "| SQL |"
   ]
  },
  {
   "cell_type": "markdown",
   "id": "339c75cb",
   "metadata": {},
   "source": [
    "\n",
    "### Below are a few examples of evaluating an arithmetic function in Python."
   ]
  },
  {
   "cell_type": "code",
   "execution_count": 4,
   "id": "b5768822",
   "metadata": {},
   "outputs": [
    {
     "data": {
      "text/plain": [
       "17"
      ]
     },
     "execution_count": 4,
     "metadata": {},
     "output_type": "execute_result"
    }
   ],
   "source": [
    "#This is a simple arithmetic expression to multipy then add integers\n",
    "(3*4)+5"
   ]
  },
  {
   "cell_type": "code",
   "execution_count": 5,
   "id": "78ceb243",
   "metadata": {},
   "outputs": [
    {
     "name": "stdout",
     "output_type": "stream",
     "text": [
      "200 minutes is equal to 3.3333333333333335 hours\n"
     ]
    }
   ],
   "source": [
    "#this will comvert 200 minutes to hours by dividing 60\n",
    "minutes = 200\n",
    "hours = minutes / 60\n",
    "\n",
    "print(f\"{minutes} minutes is equal to {hours} hours\")"
   ]
  },
  {
   "cell_type": "markdown",
   "id": "555cd367",
   "metadata": {},
   "source": [
    "## Author\n",
    "Sakinat D Abubakar"
   ]
  },
  {
   "cell_type": "code",
   "execution_count": null,
   "id": "fb27f967",
   "metadata": {},
   "outputs": [],
   "source": []
  }
 ],
 "metadata": {
  "kernelspec": {
   "display_name": "Python 3 (ipykernel)",
   "language": "python",
   "name": "python3"
  },
  "language_info": {
   "codemirror_mode": {
    "name": "ipython",
    "version": 3
   },
   "file_extension": ".py",
   "mimetype": "text/x-python",
   "name": "python",
   "nbconvert_exporter": "python",
   "pygments_lexer": "ipython3",
   "version": "3.11.5"
  }
 },
 "nbformat": 4,
 "nbformat_minor": 5
}
